{
 "cells": [
  {
   "cell_type": "markdown",
   "id": "2258903f",
   "metadata": {},
   "source": [
    "# price_analysis Example\n",
    "\n",
    "This notebook demonstrates cryptocurrency analysis using the analysis_simple library."
   ]
  },
  {
   "cell_type": "code",
   "execution_count": 1,
   "id": "e721525b",
   "metadata": {},
   "outputs": [
    {
     "ename": "ModuleNotFoundError",
     "evalue": "No module named 'src'",
     "output_type": "error",
     "traceback": [
      "\u001b[31m---------------------------------------------------------------------------\u001b[39m",
      "\u001b[31mModuleNotFoundError\u001b[39m                       Traceback (most recent call last)",
      "\u001b[36mCell\u001b[39m\u001b[36m \u001b[39m\u001b[32mIn[1]\u001b[39m\u001b[32m, line 2\u001b[39m\n\u001b[32m      1\u001b[39m \u001b[38;5;66;03m# Import necessary modules\u001b[39;00m\n\u001b[32m----> \u001b[39m\u001b[32m2\u001b[39m \u001b[38;5;28;01mfrom\u001b[39;00m\u001b[38;5;250m \u001b[39m\u001b[34;01msrc\u001b[39;00m\u001b[34;01m.\u001b[39;00m\u001b[34;01mjupyter\u001b[39;00m\u001b[34;01m.\u001b[39;00m\u001b[34;01mdisplay\u001b[39;00m\u001b[38;5;250m \u001b[39m\u001b[38;5;28;01mimport\u001b[39;00m create_price_chart, create_indicator_chart\n\u001b[32m      3\u001b[39m \u001b[38;5;28;01mfrom\u001b[39;00m\u001b[38;5;250m \u001b[39m\u001b[34;01msrc\u001b[39;00m\u001b[34;01m.\u001b[39;00m\u001b[34;01mjupyter\u001b[39;00m\u001b[34;01m.\u001b[39;00m\u001b[34;01manalysis\u001b[39;00m\u001b[38;5;250m \u001b[39m\u001b[38;5;28;01mimport\u001b[39;00m run_analysis, get_price_data\n\u001b[32m      4\u001b[39m \u001b[38;5;28;01mimport\u001b[39;00m\u001b[38;5;250m \u001b[39m\u001b[34;01mpandas\u001b[39;00m\u001b[38;5;250m \u001b[39m\u001b[38;5;28;01mas\u001b[39;00m\u001b[38;5;250m \u001b[39m\u001b[34;01mpd\u001b[39;00m\n",
      "\u001b[31mModuleNotFoundError\u001b[39m: No module named 'src'"
     ]
    }
   ],
   "source": [
    "# Import necessary modules\n",
    "from src.jupyter.display import create_price_chart, create_indicator_chart\n",
    "from src.jupyter.analysis import run_analysis, get_price_data\n",
    "import pandas as pd\n",
    "import plotly.io as pio\n",
    "\n",
    "# Enable Plotly in Jupyter\n",
    "pio.renderers.default = \"notebook\"\n"
   ]
  },
  {
   "cell_type": "code",
   "execution_count": 2,
   "id": "1a30f1c2",
   "metadata": {},
   "outputs": [
    {
     "ename": "NameError",
     "evalue": "name 'get_price_data' is not defined",
     "output_type": "error",
     "traceback": [
      "\u001b[31m---------------------------------------------------------------------------\u001b[39m",
      "\u001b[31mNameError\u001b[39m                                 Traceback (most recent call last)",
      "\u001b[36mCell\u001b[39m\u001b[36m \u001b[39m\u001b[32mIn[2]\u001b[39m\u001b[32m, line 2\u001b[39m\n\u001b[32m      1\u001b[39m \u001b[38;5;66;03m# Get sample data for Bitcoin\u001b[39;00m\n\u001b[32m----> \u001b[39m\u001b[32m2\u001b[39m btc_data = \u001b[43mget_price_data\u001b[49m(\u001b[33m\"\u001b[39m\u001b[33mbitcoin\u001b[39m\u001b[33m\"\u001b[39m, days=\u001b[32m30\u001b[39m, vs_currency=\u001b[33m\"\u001b[39m\u001b[33musd\u001b[39m\u001b[33m\"\u001b[39m)\n\u001b[32m      4\u001b[39m \u001b[38;5;66;03m# Display price chart\u001b[39;00m\n\u001b[32m      5\u001b[39m create_price_chart(btc_data, title=\u001b[33m\"\u001b[39m\u001b[33mBitcoin Price (30 Days)\u001b[39m\u001b[33m\"\u001b[39m)\n",
      "\u001b[31mNameError\u001b[39m: name 'get_price_data' is not defined"
     ]
    }
   ],
   "source": [
    "# Get sample data for Bitcoin\n",
    "btc_data = get_price_data(\"bitcoin\", days=30, vs_currency=\"usd\")\n",
    "\n",
    "# Display price chart\n",
    "create_price_chart(btc_data, title=\"Bitcoin Price (30 Days)\")\n"
   ]
  },
  {
   "cell_type": "code",
   "execution_count": null,
   "id": "b21fd569-93c7-49dd-9c26-75dc0253d2c4",
   "metadata": {},
   "outputs": [],
   "source": []
  },
  {
   "cell_type": "code",
   "execution_count": null,
   "id": "5a5e9b60-1cec-4744-b442-c437000e78ce",
   "metadata": {},
   "outputs": [],
   "source": []
  }
 ],
 "metadata": {
  "kernelspec": {
   "display_name": "Python 3 (ipykernel)",
   "language": "python",
   "name": "python3"
  },
  "language_info": {
   "codemirror_mode": {
    "name": "ipython",
    "version": 3
   },
   "file_extension": ".py",
   "mimetype": "text/x-python",
   "name": "python",
   "nbconvert_exporter": "python",
   "pygments_lexer": "ipython3",
   "version": "3.13.3"
  }
 },
 "nbformat": 4,
 "nbformat_minor": 5
}
