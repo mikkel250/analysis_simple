{
 "cells": [
  {
   "cell_type": "markdown",
   "id": "b55ad61f",
   "metadata": {},
   "source": [
    "# Short-Term Market Analysis for BTC"
   ]
  },
  {
   "cell_type": "code",
   "execution_count": null,
   "id": "f127d8a2",
   "metadata": {},
   "outputs": [],
   "source": [
    "%short --verbose"
   ]
  },
  {
   "cell_type": "code",
   "execution_count": null,
   "id": "b0938122",
   "metadata": {},
   "outputs": [],
   "source": [
    "symbol = \"BTC\"\n",
    "print(f\"Analyzing {symbol}\")"
   ]
  },
  {
   "cell_type": "markdown",
   "id": "7039a90e",
   "metadata": {},
   "source": [
    "## Fetch Data\n",
    "\n",
    "Fetching market data for BTC..."
   ]
  },
  {
   "cell_type": "code",
   "execution_count": null,
   "id": "e8239c83",
   "metadata": {},
   "outputs": [],
   "source": [
    "from src.jupyter.market_analyzer import MarketAnalyzer\n",
    "\n",
    "analyzer = MarketAnalyzer(symbol=symbol, timeframe=\"short\")\n",
    "data = analyzer.fetch_data()\n",
    "\n",
    "data.tail()"
   ]
  },
  {
   "cell_type": "markdown",
   "id": "5aefec52",
   "metadata": {},
   "source": [
    "## Run Analysis\n",
    "\n",
    "Performing market analysis..."
   ]
  },
  {
   "cell_type": "code",
   "execution_count": null,
   "id": "dab2684c",
   "metadata": {},
   "outputs": [],
   "source": [
    "analysis_results = analyzer.run_analysis()\n",
    "\n",
    "print(f\"Analysis completed for {symbol}\")\n",
    "analysis_results['performance']"
   ]
  },
  {
   "cell_type": "code",
   "execution_count": null,
   "id": "fb5b8a3c-88b3-4fcd-9135-1263dd56b512",
   "metadata": {},
   "outputs": [],
   "source": []
  }
 ],
 "metadata": {
  "kernelspec": {
   "display_name": "Financial Analysis",
   "language": "python",
   "name": "financial_analysis"
  },
  "language_info": {
   "codemirror_mode": {
    "name": "ipython",
    "version": 3
   },
   "file_extension": ".py",
   "mimetype": "text/x-python",
   "name": "python",
   "nbconvert_exporter": "python",
   "pygments_lexer": "ipython3",
   "version": "3.9.0"
  }
 },
 "nbformat": 4,
 "nbformat_minor": 5
}
