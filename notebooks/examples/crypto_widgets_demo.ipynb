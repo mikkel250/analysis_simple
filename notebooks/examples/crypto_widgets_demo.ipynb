{
 "cells": [
  {
   "cell_type": "markdown",
   "id": "fc709ad3",
   "metadata": {},
   "source": [
    "# Interactive Cryptocurrency Analysis Demo\n",
    "\n",
    "This notebook demonstrates how to use the interactive widgets for cryptocurrency analysis. The widgets allow you to:\n",
    "\n",
    "- Select symbols, timeframes, and date ranges\n",
    "- Adjust indicator parameters\n",
    "- Generate various chart types\n",
    "- Create multi-currency comparisons\n",
    "\n",
    "Let's start by importing the necessary modules."
   ]
  },
  {
   "cell_type": "code",
   "execution_count": null,
   "id": "a0e61b76",
   "metadata": {},
   "outputs": [],
   "source": [
    "# Add the project root to the Python path so we can import the src module\n",
    "import sys\n",
    "import os\n",
    "\n",
    "# Go up two levels from the notebook directory to get to the project root\n",
    "project_root = os.path.abspath(os.path.join(os.path.dirname('__file__'), '../..'))\n",
    "\n",
    "# Add to path if not already there\n",
    "if project_root not in sys.path:\n",
    "    sys.path.insert(0, project_root)\n",
    "    print(f\"Added {project_root} to Python path\")\n",
    "\n",
    "# Import the widgets module\n",
    "from src.jupyter.widgets import (\n",
    "    create_analysis_dashboard,\n",
    "    create_quick_analysis_widget,\n",
    "    create_comparison_widget\n",
    ")\n",
    "\n",
    "# Import the display functions if you want to use them directly\n",
    "from src.jupyter.display import (\n",
    "    create_price_chart,\n",
    "    create_indicator_chart,\n",
    "    create_summary_dashboard,\n",
    "    create_multi_indicator_chart\n",
    ")\n",
    "\n",
    "# Import the analysis functions if you want to access data directly\n",
    "from src.jupyter.analysis import (\n",
    "    run_analysis,\n",
    "    get_data,\n",
    "    clear_cache,\n",
    "    batch_analyze\n",
    ")\n",
    "\n",
    "# Set notebook to full width for better display\n",
    "from IPython.display import display, HTML\n",
    "display(HTML(\"<style>.container, .cell_output { width:100% !important; max-width:100% !important; }</style>\"))\n"
   ]
  },
  {
   "cell_type": "markdown",
   "id": "9b4adc1f",
   "metadata": {},
   "source": [
    "## Quick Analysis Widget\n",
    "\n",
    "Let's start with the simplest interface - the quick analysis widget. This creates a simplified UI with just the essential controls.\n",
    "\n",
    "**Note:** If you want to use the forecasting feature, make sure to install the `statsmodels` package:\n",
    "```\n",
    "pip install statsmodels\n",
    "```\n"
   ]
  },
  {
   "cell_type": "code",
   "execution_count": null,
   "id": "9e3b31ea",
   "metadata": {},
   "outputs": [],
   "source": [
    "# Create the quick analysis widget\n",
    "quick_widget = create_quick_analysis_widget()\n",
    "\n",
    "# Display the widget\n",
    "quick_widget"
   ]
  },
  {
   "cell_type": "markdown",
   "id": "5823ec9d",
   "metadata": {},
   "source": [
    "## Complete Analysis Dashboard\n",
    "\n",
    "The `create_analysis_dashboard` function creates a more comprehensive UI with tabs for basic settings, indicator parameters, and display options. You can select a symbol, timeframe, and chart type, and then click \"Run Analysis\" to generate the chart."
   ]
  },
  {
   "cell_type": "code",
   "execution_count": null,
   "id": "53257f04",
   "metadata": {},
   "outputs": [],
   "source": [
    "# Create the analysis dashboard\n",
    "controls, dashboard = create_analysis_dashboard()\n",
    "\n",
    "# Display the dashboard\n",
    "dashboard"
   ]
  },
  {
   "cell_type": "markdown",
   "id": "555d6207",
   "metadata": {},
   "source": [
    "## Multi-Currency Comparison\n",
    "\n",
    "The `create_comparison_widget` function creates a widget for comparing multiple cryptocurrencies. You can select multiple symbols and see a comparison table and mini-dashboards for each selected symbol."
   ]
  },
  {
   "cell_type": "code",
   "execution_count": null,
   "id": "8527dbce",
   "metadata": {},
   "outputs": [],
   "source": [
    "# Create the comparison widget\n",
    "comparison_widget = create_comparison_widget()\n",
    "\n",
    "# Display the widget\n",
    "comparison_widget"
   ]
  },
  {
   "cell_type": "markdown",
   "id": "5aa937f7",
   "metadata": {},
   "source": [
    "## Direct API Usage Example\n",
    "\n",
    "If you prefer to work with the API directly without using the widgets, you can use the analysis and display functions directly. Here's a simple example:"
   ]
  },
  {
   "cell_type": "code",
   "execution_count": null,
   "id": "f7edcfaa",
   "metadata": {},
   "outputs": [],
   "source": [
    "# Get data for Bitcoin\n",
    "df, current_price_data = get_data('BTC', '1d', 100)\n",
    "\n",
    "# Run analysis\n",
    "analysis_results = run_analysis('BTC', '1d', 100)\n",
    "\n",
    "# Create a price chart\n",
    "price_chart = create_price_chart(df, title='BTC/USD Price Chart')\n",
    "price_chart"
   ]
  }
 ],
 "metadata": {},
 "nbformat": 4,
 "nbformat_minor": 5
}
