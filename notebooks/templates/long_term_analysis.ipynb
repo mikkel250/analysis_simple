{
 "cells": [
  {
   "cell_type": "markdown",
   "id": "0e46dc41",
   "metadata": {},
   "source": [
    "# Long-Term Market Analysis for {{SYMBOL}}"
   ]
  },
  {
   "cell_type": "code",
   "execution_count": null,
   "id": "0caf8b26",
   "metadata": {},
   "outputs": [],
   "source": [
    "%long --verbose"
   ]
  },
  {
   "cell_type": "code",
   "execution_count": null,
   "id": "edec706e",
   "metadata": {},
   "outputs": [],
   "source": [
    "symbol = \"{{SYMBOL}}\"\n",
    "print(f\"Analyzing {symbol}\")"
   ]
  },
  {
   "cell_type": "markdown",
   "id": "e2221981",
   "metadata": {},
   "source": [
    "## Fetch Data\n",
    "\n",
    "Fetching market data for {{SYMBOL}}..."
   ]
  },
  {
   "cell_type": "code",
   "execution_count": null,
   "id": "1fd57820",
   "metadata": {},
   "outputs": [],
   "source": [
    "from src.jupyter.market_analyzer import MarketAnalyzer\n",
    "\n",
    "analyzer = MarketAnalyzer(symbol=symbol, timeframe=\"{{TIMEFRAME}}\")\n",
    "data = analyzer.fetch_data()\n",
    "\n",
    "data.tail()"
   ]
  },
  {
   "cell_type": "markdown",
   "id": "c9503ab7",
   "metadata": {},
   "source": [
    "## Run Analysis\n",
    "\n",
    "Performing market analysis..."
   ]
  },
  {
   "cell_type": "code",
   "execution_count": null,
   "id": "e359e148",
   "metadata": {},
   "outputs": [],
   "source": [
    "analysis_results = analyzer.run_analysis()\n",
    "\n",
    "print(f\"Analysis completed for {symbol}\")\n",
    "analysis_results['performance']"
   ]
  }
 ],
 "metadata": {
  "kernelspec": {
   "display_name": "Financial Analysis",
   "language": "python",
   "name": "financial_analysis"
  },
  "language_info": {
   "codemirror_mode": {
    "name": "ipython",
    "version": 3
   },
   "file_extension": ".py",
   "mimetype": "text/x-python",
   "name": "python",
   "nbconvert_exporter": "python",
   "pygments_lexer": "ipython3",
   "version": "3.9.0"
  }
 },
 "nbformat": 4,
 "nbformat_minor": 5
}
