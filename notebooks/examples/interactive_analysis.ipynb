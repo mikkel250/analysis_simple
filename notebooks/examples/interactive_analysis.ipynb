{
 "cells": [
  {
   "cell_type": "markdown",
   "id": "a07db41b",
   "metadata": {},
   "source": [
    "# Interactive Cryptocurrency Analysis\n",
    "\n",
    "This notebook provides interactive analysis of cryptocurrency data using the enhanced display components.\n"
   ]
  },
  {
   "cell_type": "code",
   "execution_count": null,
   "id": "e2276251",
   "metadata": {},
   "outputs": [],
   "source": [
    "# Import necessary modules\n",
    "import sys\n",
    "import os\n",
    "\n",
    "# Add project root to path\n",
    "project_root = os.path.abspath(os.path.join(os.path.dirname('__file__'), '../..'))\n",
    "if project_root not in sys.path:\n",
    "    sys.path.insert(0, project_root)\n",
    "    print(f\"Added {project_root} to Python path\")\n",
    "\n",
    "# Import the modules\n",
    "from src.jupyter.widgets import set_notebook_width, create_quick_analysis_widget\n"
   ]
  },
  {
   "cell_type": "code",
   "execution_count": null,
   "id": "75019e49",
   "metadata": {},
   "outputs": [],
   "source": [
    "# Set notebook to full width for better display\n",
    "set_notebook_width('100%')\n",
    "print(\"Notebook width set to 100%\")\n"
   ]
  },
  {
   "cell_type": "code",
   "execution_count": null,
   "id": "4a5d755c",
   "metadata": {},
   "outputs": [],
   "source": [
    "# Create and display the quick analysis widget\n",
    "quick_widget = create_quick_analysis_widget()\n",
    "quick_widget\n"
   ]
  }
 ],
 "metadata": {
  "kernelspec": {
   "display_name": "Python 3",
   "language": "python",
   "name": "python3"
  },
  "language_info": {
   "codemirror_mode": {
    "name": "ipython",
    "version": 3
   },
   "file_extension": ".py",
   "mimetype": "text/x-python",
   "name": "python",
   "nbconvert_exporter": "python",
   "pygments_lexer": "ipython3",
   "version": "3.8.5"
  }
 },
 "nbformat": 4,
 "nbformat_minor": 5
}
